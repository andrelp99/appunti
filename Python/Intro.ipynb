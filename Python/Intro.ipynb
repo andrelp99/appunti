{
 "cells": [
  {
   "attachments": {},
   "cell_type": "markdown",
   "metadata": {},
   "source": [
    " # Operazioni iniziali"
   ]
  },
  {
   "cell_type": "code",
   "execution_count": 103,
   "metadata": {},
   "outputs": [
    {
     "name": "stdout",
     "output_type": "stream",
     "text": [
      "Help on class str in module builtins:\n",
      "\n",
      "class str(object)\n",
      " |  str(object='') -> str\n",
      " |  str(bytes_or_buffer[, encoding[, errors]]) -> str\n",
      " |  \n",
      " |  Create a new string object from the given object. If encoding or\n",
      " |  errors is specified, then the object must expose a data buffer\n",
      " |  that will be decoded using the given encoding and error handler.\n",
      " |  Otherwise, returns the result of object.__str__() (if defined)\n",
      " |  or repr(object).\n",
      " |  encoding defaults to sys.getdefaultencoding().\n",
      " |  errors defaults to 'strict'.\n",
      " |  \n",
      " |  Methods defined here:\n",
      " |  \n",
      " |  __add__(self, value, /)\n",
      " |      Return self+value.\n",
      " |  \n",
      " |  __contains__(self, key, /)\n",
      " |      Return key in self.\n",
      " |  \n",
      " |  __eq__(self, value, /)\n",
      " |      Return self==value.\n",
      " |  \n",
      " |  __format__(self, format_spec, /)\n",
      " |      Return a formatted version of the string as described by format_spec.\n",
      " |  \n",
      " |  __ge__(self, value, /)\n",
      " |      Return self>=value.\n",
      " |  \n",
      " |  __getattribute__(self, name, /)\n",
      " |      Return getattr(self, name).\n",
      " |  \n",
      " |  __getitem__(self, key, /)\n",
      " |      Return self[key].\n",
      " |  \n",
      " |  __getnewargs__(...)\n",
      " |  \n",
      " |  __gt__(self, value, /)\n",
      " |      Return self>value.\n",
      " |  \n",
      " |  __hash__(self, /)\n",
      " |      Return hash(self).\n",
      " |  \n",
      " |  __iter__(self, /)\n",
      " |      Implement iter(self).\n",
      " |  \n",
      " |  __le__(self, value, /)\n",
      " |      Return self<=value.\n",
      " |  \n",
      " |  __len__(self, /)\n",
      " |      Return len(self).\n",
      " |  \n",
      " |  __lt__(self, value, /)\n",
      " |      Return self<value.\n",
      " |  \n",
      " |  __mod__(self, value, /)\n",
      " |      Return self%value.\n",
      " |  \n",
      " |  __mul__(self, value, /)\n",
      " |      Return self*value.\n",
      " |  \n",
      " |  __ne__(self, value, /)\n",
      " |      Return self!=value.\n",
      " |  \n",
      " |  __repr__(self, /)\n",
      " |      Return repr(self).\n",
      " |  \n",
      " |  __rmod__(self, value, /)\n",
      " |      Return value%self.\n",
      " |  \n",
      " |  __rmul__(self, value, /)\n",
      " |      Return value*self.\n",
      " |  \n",
      " |  __sizeof__(self, /)\n",
      " |      Return the size of the string in memory, in bytes.\n",
      " |  \n",
      " |  __str__(self, /)\n",
      " |      Return str(self).\n",
      " |  \n",
      " |  capitalize(self, /)\n",
      " |      Return a capitalized version of the string.\n",
      " |      \n",
      " |      More specifically, make the first character have upper case and the rest lower\n",
      " |      case.\n",
      " |  \n",
      " |  casefold(self, /)\n",
      " |      Return a version of the string suitable for caseless comparisons.\n",
      " |  \n",
      " |  center(self, width, fillchar=' ', /)\n",
      " |      Return a centered string of length width.\n",
      " |      \n",
      " |      Padding is done using the specified fill character (default is a space).\n",
      " |  \n",
      " |  count(...)\n",
      " |      S.count(sub[, start[, end]]) -> int\n",
      " |      \n",
      " |      Return the number of non-overlapping occurrences of substring sub in\n",
      " |      string S[start:end].  Optional arguments start and end are\n",
      " |      interpreted as in slice notation.\n",
      " |  \n",
      " |  encode(self, /, encoding='utf-8', errors='strict')\n",
      " |      Encode the string using the codec registered for encoding.\n",
      " |      \n",
      " |      encoding\n",
      " |        The encoding in which to encode the string.\n",
      " |      errors\n",
      " |        The error handling scheme to use for encoding errors.\n",
      " |        The default is 'strict' meaning that encoding errors raise a\n",
      " |        UnicodeEncodeError.  Other possible values are 'ignore', 'replace' and\n",
      " |        'xmlcharrefreplace' as well as any other name registered with\n",
      " |        codecs.register_error that can handle UnicodeEncodeErrors.\n",
      " |  \n",
      " |  endswith(...)\n",
      " |      S.endswith(suffix[, start[, end]]) -> bool\n",
      " |      \n",
      " |      Return True if S ends with the specified suffix, False otherwise.\n",
      " |      With optional start, test S beginning at that position.\n",
      " |      With optional end, stop comparing S at that position.\n",
      " |      suffix can also be a tuple of strings to try.\n",
      " |  \n",
      " |  expandtabs(self, /, tabsize=8)\n",
      " |      Return a copy where all tab characters are expanded using spaces.\n",
      " |      \n",
      " |      If tabsize is not given, a tab size of 8 characters is assumed.\n",
      " |  \n",
      " |  find(...)\n",
      " |      S.find(sub[, start[, end]]) -> int\n",
      " |      \n",
      " |      Return the lowest index in S where substring sub is found,\n",
      " |      such that sub is contained within S[start:end].  Optional\n",
      " |      arguments start and end are interpreted as in slice notation.\n",
      " |      \n",
      " |      Return -1 on failure.\n",
      " |  \n",
      " |  format(...)\n",
      " |      S.format(*args, **kwargs) -> str\n",
      " |      \n",
      " |      Return a formatted version of S, using substitutions from args and kwargs.\n",
      " |      The substitutions are identified by braces ('{' and '}').\n",
      " |  \n",
      " |  format_map(...)\n",
      " |      S.format_map(mapping) -> str\n",
      " |      \n",
      " |      Return a formatted version of S, using substitutions from mapping.\n",
      " |      The substitutions are identified by braces ('{' and '}').\n",
      " |  \n",
      " |  index(...)\n",
      " |      S.index(sub[, start[, end]]) -> int\n",
      " |      \n",
      " |      Return the lowest index in S where substring sub is found,\n",
      " |      such that sub is contained within S[start:end].  Optional\n",
      " |      arguments start and end are interpreted as in slice notation.\n",
      " |      \n",
      " |      Raises ValueError when the substring is not found.\n",
      " |  \n",
      " |  isalnum(self, /)\n",
      " |      Return True if the string is an alpha-numeric string, False otherwise.\n",
      " |      \n",
      " |      A string is alpha-numeric if all characters in the string are alpha-numeric and\n",
      " |      there is at least one character in the string.\n",
      " |  \n",
      " |  isalpha(self, /)\n",
      " |      Return True if the string is an alphabetic string, False otherwise.\n",
      " |      \n",
      " |      A string is alphabetic if all characters in the string are alphabetic and there\n",
      " |      is at least one character in the string.\n",
      " |  \n",
      " |  isascii(self, /)\n",
      " |      Return True if all characters in the string are ASCII, False otherwise.\n",
      " |      \n",
      " |      ASCII characters have code points in the range U+0000-U+007F.\n",
      " |      Empty string is ASCII too.\n",
      " |  \n",
      " |  isdecimal(self, /)\n",
      " |      Return True if the string is a decimal string, False otherwise.\n",
      " |      \n",
      " |      A string is a decimal string if all characters in the string are decimal and\n",
      " |      there is at least one character in the string.\n",
      " |  \n",
      " |  isdigit(self, /)\n",
      " |      Return True if the string is a digit string, False otherwise.\n",
      " |      \n",
      " |      A string is a digit string if all characters in the string are digits and there\n",
      " |      is at least one character in the string.\n",
      " |  \n",
      " |  isidentifier(self, /)\n",
      " |      Return True if the string is a valid Python identifier, False otherwise.\n",
      " |      \n",
      " |      Call keyword.iskeyword(s) to test whether string s is a reserved identifier,\n",
      " |      such as \"def\" or \"class\".\n",
      " |  \n",
      " |  islower(self, /)\n",
      " |      Return True if the string is a lowercase string, False otherwise.\n",
      " |      \n",
      " |      A string is lowercase if all cased characters in the string are lowercase and\n",
      " |      there is at least one cased character in the string.\n",
      " |  \n",
      " |  isnumeric(self, /)\n",
      " |      Return True if the string is a numeric string, False otherwise.\n",
      " |      \n",
      " |      A string is numeric if all characters in the string are numeric and there is at\n",
      " |      least one character in the string.\n",
      " |  \n",
      " |  isprintable(self, /)\n",
      " |      Return True if the string is printable, False otherwise.\n",
      " |      \n",
      " |      A string is printable if all of its characters are considered printable in\n",
      " |      repr() or if it is empty.\n",
      " |  \n",
      " |  isspace(self, /)\n",
      " |      Return True if the string is a whitespace string, False otherwise.\n",
      " |      \n",
      " |      A string is whitespace if all characters in the string are whitespace and there\n",
      " |      is at least one character in the string.\n",
      " |  \n",
      " |  istitle(self, /)\n",
      " |      Return True if the string is a title-cased string, False otherwise.\n",
      " |      \n",
      " |      In a title-cased string, upper- and title-case characters may only\n",
      " |      follow uncased characters and lowercase characters only cased ones.\n",
      " |  \n",
      " |  isupper(self, /)\n",
      " |      Return True if the string is an uppercase string, False otherwise.\n",
      " |      \n",
      " |      A string is uppercase if all cased characters in the string are uppercase and\n",
      " |      there is at least one cased character in the string.\n",
      " |  \n",
      " |  join(self, iterable, /)\n",
      " |      Concatenate any number of strings.\n",
      " |      \n",
      " |      The string whose method is called is inserted in between each given string.\n",
      " |      The result is returned as a new string.\n",
      " |      \n",
      " |      Example: '.'.join(['ab', 'pq', 'rs']) -> 'ab.pq.rs'\n",
      " |  \n",
      " |  ljust(self, width, fillchar=' ', /)\n",
      " |      Return a left-justified string of length width.\n",
      " |      \n",
      " |      Padding is done using the specified fill character (default is a space).\n",
      " |  \n",
      " |  lower(self, /)\n",
      " |      Return a copy of the string converted to lowercase.\n",
      " |  \n",
      " |  lstrip(self, chars=None, /)\n",
      " |      Return a copy of the string with leading whitespace removed.\n",
      " |      \n",
      " |      If chars is given and not None, remove characters in chars instead.\n",
      " |  \n",
      " |  partition(self, sep, /)\n",
      " |      Partition the string into three parts using the given separator.\n",
      " |      \n",
      " |      This will search for the separator in the string.  If the separator is found,\n",
      " |      returns a 3-tuple containing the part before the separator, the separator\n",
      " |      itself, and the part after it.\n",
      " |      \n",
      " |      If the separator is not found, returns a 3-tuple containing the original string\n",
      " |      and two empty strings.\n",
      " |  \n",
      " |  removeprefix(self, prefix, /)\n",
      " |      Return a str with the given prefix string removed if present.\n",
      " |      \n",
      " |      If the string starts with the prefix string, return string[len(prefix):].\n",
      " |      Otherwise, return a copy of the original string.\n",
      " |  \n",
      " |  removesuffix(self, suffix, /)\n",
      " |      Return a str with the given suffix string removed if present.\n",
      " |      \n",
      " |      If the string ends with the suffix string and that suffix is not empty,\n",
      " |      return string[:-len(suffix)]. Otherwise, return a copy of the original\n",
      " |      string.\n",
      " |  \n",
      " |  replace(self, old, new, count=-1, /)\n",
      " |      Return a copy with all occurrences of substring old replaced by new.\n",
      " |      \n",
      " |        count\n",
      " |          Maximum number of occurrences to replace.\n",
      " |          -1 (the default value) means replace all occurrences.\n",
      " |      \n",
      " |      If the optional argument count is given, only the first count occurrences are\n",
      " |      replaced.\n",
      " |  \n",
      " |  rfind(...)\n",
      " |      S.rfind(sub[, start[, end]]) -> int\n",
      " |      \n",
      " |      Return the highest index in S where substring sub is found,\n",
      " |      such that sub is contained within S[start:end].  Optional\n",
      " |      arguments start and end are interpreted as in slice notation.\n",
      " |      \n",
      " |      Return -1 on failure.\n",
      " |  \n",
      " |  rindex(...)\n",
      " |      S.rindex(sub[, start[, end]]) -> int\n",
      " |      \n",
      " |      Return the highest index in S where substring sub is found,\n",
      " |      such that sub is contained within S[start:end].  Optional\n",
      " |      arguments start and end are interpreted as in slice notation.\n",
      " |      \n",
      " |      Raises ValueError when the substring is not found.\n",
      " |  \n",
      " |  rjust(self, width, fillchar=' ', /)\n",
      " |      Return a right-justified string of length width.\n",
      " |      \n",
      " |      Padding is done using the specified fill character (default is a space).\n",
      " |  \n",
      " |  rpartition(self, sep, /)\n",
      " |      Partition the string into three parts using the given separator.\n",
      " |      \n",
      " |      This will search for the separator in the string, starting at the end. If\n",
      " |      the separator is found, returns a 3-tuple containing the part before the\n",
      " |      separator, the separator itself, and the part after it.\n",
      " |      \n",
      " |      If the separator is not found, returns a 3-tuple containing two empty strings\n",
      " |      and the original string.\n",
      " |  \n",
      " |  rsplit(self, /, sep=None, maxsplit=-1)\n",
      " |      Return a list of the words in the string, using sep as the delimiter string.\n",
      " |      \n",
      " |        sep\n",
      " |          The delimiter according which to split the string.\n",
      " |          None (the default value) means split according to any whitespace,\n",
      " |          and discard empty strings from the result.\n",
      " |        maxsplit\n",
      " |          Maximum number of splits to do.\n",
      " |          -1 (the default value) means no limit.\n",
      " |      \n",
      " |      Splits are done starting at the end of the string and working to the front.\n",
      " |  \n",
      " |  rstrip(self, chars=None, /)\n",
      " |      Return a copy of the string with trailing whitespace removed.\n",
      " |      \n",
      " |      If chars is given and not None, remove characters in chars instead.\n",
      " |  \n",
      " |  split(self, /, sep=None, maxsplit=-1)\n",
      " |      Return a list of the words in the string, using sep as the delimiter string.\n",
      " |      \n",
      " |      sep\n",
      " |        The delimiter according which to split the string.\n",
      " |        None (the default value) means split according to any whitespace,\n",
      " |        and discard empty strings from the result.\n",
      " |      maxsplit\n",
      " |        Maximum number of splits to do.\n",
      " |        -1 (the default value) means no limit.\n",
      " |  \n",
      " |  splitlines(self, /, keepends=False)\n",
      " |      Return a list of the lines in the string, breaking at line boundaries.\n",
      " |      \n",
      " |      Line breaks are not included in the resulting list unless keepends is given and\n",
      " |      true.\n",
      " |  \n",
      " |  startswith(...)\n",
      " |      S.startswith(prefix[, start[, end]]) -> bool\n",
      " |      \n",
      " |      Return True if S starts with the specified prefix, False otherwise.\n",
      " |      With optional start, test S beginning at that position.\n",
      " |      With optional end, stop comparing S at that position.\n",
      " |      prefix can also be a tuple of strings to try.\n",
      " |  \n",
      " |  strip(self, chars=None, /)\n",
      " |      Return a copy of the string with leading and trailing whitespace removed.\n",
      " |      \n",
      " |      If chars is given and not None, remove characters in chars instead.\n",
      " |  \n",
      " |  swapcase(self, /)\n",
      " |      Convert uppercase characters to lowercase and lowercase characters to uppercase.\n",
      " |  \n",
      " |  title(self, /)\n",
      " |      Return a version of the string where each word is titlecased.\n",
      " |      \n",
      " |      More specifically, words start with uppercased characters and all remaining\n",
      " |      cased characters have lower case.\n",
      " |  \n",
      " |  translate(self, table, /)\n",
      " |      Replace each character in the string using the given translation table.\n",
      " |      \n",
      " |        table\n",
      " |          Translation table, which must be a mapping of Unicode ordinals to\n",
      " |          Unicode ordinals, strings, or None.\n",
      " |      \n",
      " |      The table must implement lookup/indexing via __getitem__, for instance a\n",
      " |      dictionary or list.  If this operation raises LookupError, the character is\n",
      " |      left untouched.  Characters mapped to None are deleted.\n",
      " |  \n",
      " |  upper(self, /)\n",
      " |      Return a copy of the string converted to uppercase.\n",
      " |  \n",
      " |  zfill(self, width, /)\n",
      " |      Pad a numeric string with zeros on the left, to fill a field of the given width.\n",
      " |      \n",
      " |      The string is never truncated.\n",
      " |  \n",
      " |  ----------------------------------------------------------------------\n",
      " |  Static methods defined here:\n",
      " |  \n",
      " |  __new__(*args, **kwargs) from builtins.type\n",
      " |      Create and return a new object.  See help(type) for accurate signature.\n",
      " |  \n",
      " |  maketrans(...)\n",
      " |      Return a translation table usable for str.translate().\n",
      " |      \n",
      " |      If there is only one argument, it must be a dictionary mapping Unicode\n",
      " |      ordinals (integers) or characters to Unicode ordinals, strings or None.\n",
      " |      Character keys will be then converted to ordinals.\n",
      " |      If there are two arguments, they must be strings of equal length, and\n",
      " |      in the resulting dictionary, each character in x will be mapped to the\n",
      " |      character at the same position in y. If there is a third argument, it\n",
      " |      must be a string, whose characters will be mapped to None in the result.\n",
      "\n"
     ]
    }
   ],
   "source": [
    "# help()  # per aprire l'help generico\n",
    "help(str) # per info su quello contenuto tra parentesi"
   ]
  },
  {
   "attachments": {},
   "cell_type": "markdown",
   "metadata": {},
   "source": [
    "## Operazioni semplici"
   ]
  },
  {
   "cell_type": "code",
   "execution_count": 1,
   "metadata": {},
   "outputs": [
    {
     "name": "stdout",
     "output_type": "stream",
     "text": [
      "ciao\n",
      "2\n"
     ]
    }
   ],
   "source": [
    "print(\"ciao\")\n",
    "print(2)"
   ]
  },
  {
   "cell_type": "code",
   "execution_count": 86,
   "metadata": {},
   "outputs": [
    {
     "name": "stdout",
     "output_type": "stream",
     "text": [
      "5\n",
      "-1\n",
      "6\n",
      "0.6666666666666666\n",
      "0\n",
      "8\n",
      "1\n",
      "[1, 4, 7]\n",
      "[0, 1, 2, 3, 4, 5, 6, 7, 8, 9]\n"
     ]
    }
   ],
   "source": [
    "print(2+3)\n",
    "print(2-3)\n",
    "print(2*3)\n",
    "print(2/3)\n",
    "print(2//3) # ritorna un intero\n",
    "print(2**3) # potenza\n",
    "print(7%3) # ritorna il modulo, ovvero resto della divisione\n",
    "print(list(range(1,10,3))) # lista di numeri da 1 a 10 ogni 3 (escluso l'ultimo)\n",
    "print(list(range(10))) # lista di numeri da 0 a 10 ogni 1 (escluso l'ultimo)"
   ]
  },
  {
   "attachments": {},
   "cell_type": "markdown",
   "metadata": {},
   "source": [
    "## Variabili"
   ]
  },
  {
   "attachments": {},
   "cell_type": "markdown",
   "metadata": {},
   "source": [
    "Possiamo considerare le variabili come dei contenitori in grado di contenere diversi tipi di informazioni, il contenuto può essere modificato o rimpiazzato in ogni momento."
   ]
  },
  {
   "cell_type": "code",
   "execution_count": 11,
   "metadata": {},
   "outputs": [
    {
     "name": "stdout",
     "output_type": "stream",
     "text": [
      "5\n",
      "ciao\n",
      "boh è il tuo nuovo padrone\n"
     ]
    },
    {
     "data": {
      "text/plain": [
       "str"
      ]
     },
     "execution_count": 11,
     "metadata": {},
     "output_type": "execute_result"
    }
   ],
   "source": [
    "num = 5\n",
    "print(num)\n",
    "word = \"ciao\"\n",
    "print(word)\n",
    "cat = input(\"Inserisci un nome per il tuo nuovo gatto: \")\n",
    "print(cat,\"è il tuo nuovo padrone\")"
   ]
  },
  {
   "attachments": {},
   "cell_type": "markdown",
   "metadata": {},
   "source": [
    "Python è un linguaggio non tipizzato, questo vuol dire che non serve definire a priori il tipo di dato che una variabile dovrà contenere, ma anzi è anche possibile riassegnare una stessa variabile ad un nuovo tipo di dato."
   ]
  },
  {
   "attachments": {},
   "cell_type": "markdown",
   "metadata": {},
   "source": [
    "Il casting è un'operazione che consiste nel convertire un tipo di dato in un'altro, in Python può essere eseguito con un'operazione del tipo datatype(var)."
   ]
  },
  {
   "cell_type": "code",
   "execution_count": 8,
   "metadata": {},
   "outputs": [
    {
     "name": "stdout",
     "output_type": "stream",
     "text": [
      "1.0 <class 'float'>\n"
     ]
    }
   ],
   "source": [
    "var = 1 # intero\n",
    "var = float(var) # da intero a float\n",
    "print(var, type(var))\n",
    "\n",
    "# per altri tipi, int() per intero, str() per stringa, float() per numero con virgola\n",
    "\n",
    "# anche con altri tipi di oggetti:\n",
    "tuple(lista) # da lista a tupla\n",
    "set(lista) # da lista a set\n",
    "set(tupla) # da tupla a set\n",
    "dict(tupla) # da tupla a dizionario\n",
    "\n",
    "names_age = zip(names, age) # da due liste a dizionario\n",
    "people_dict = dict(names_age)"
   ]
  },
  {
   "cell_type": "code",
   "execution_count": 9,
   "metadata": {},
   "outputs": [
    {
     "name": "stdout",
     "output_type": "stream",
     "text": [
      "Hai 25 anni\n"
     ]
    }
   ],
   "source": [
    "age = 25\n",
    "print(\"Hai %d anni\" % age)\n",
    "\n",
    "# si possono inserire elementi in stringhe. In base alla lettera dopo il % sono tipi diversi di elementi:\n",
    "# - d per interi\n",
    "# - f per float\n",
    "# - s per stringa\n",
    "# - c per singolo carattere"
   ]
  },
  {
   "cell_type": "code",
   "execution_count": null,
   "metadata": {},
   "outputs": [],
   "source": [
    "# Per swappare due o più variabili\n",
    "a, b = b, a"
   ]
  },
  {
   "cell_type": "code",
   "execution_count": 13,
   "metadata": {},
   "outputs": [
    {
     "name": "stdout",
     "output_type": "stream",
     "text": [
      "<class 'str'>\n",
      "52\n",
      "3\n"
     ]
    }
   ],
   "source": [
    "# Per tipo di variabile\n",
    "print(type(cat))\n",
    "\n",
    "# Per dimensione variabile\n",
    "from sys import getsizeof\n",
    "print(getsizeof(cat))\n",
    "\n",
    "# Per lunghezza variabile o oggetto\n",
    "print(len(cat))"
   ]
  },
  {
   "attachments": {},
   "cell_type": "markdown",
   "metadata": {},
   "source": [
    "## Liste"
   ]
  },
  {
   "attachments": {},
   "cell_type": "markdown",
   "metadata": {},
   "source": [
    "Possiamo creare una lista di dati semplicemente racchiudendoli tra parentesti quadre e separandoli con una virgola."
   ]
  },
  {
   "cell_type": "code",
   "execution_count": 31,
   "metadata": {},
   "outputs": [
    {
     "name": "stdout",
     "output_type": "stream",
     "text": [
      "[1, 2, 3, 5, 8, 13, 21] <class 'list'>\n",
      "[0, 'patate', True, 3.14]\n"
     ]
    }
   ],
   "source": [
    "l = [1, 2 ,3 ,5 ,8 ,13 ,21]\n",
    "print(l, type(l))\n",
    "\n",
    "weird_list = [0, \"patate\", True, 3.14] # questo funziona, ma non si fa sempre\n",
    "print(weird_list)"
   ]
  },
  {
   "cell_type": "code",
   "execution_count": 19,
   "metadata": {},
   "outputs": [
    {
     "name": "stdout",
     "output_type": "stream",
     "text": [
      "1\n",
      "2\n",
      "13\n",
      "21\n",
      "8\n",
      "[8, 13]\n",
      "[1, 2, 3]\n",
      "[13, 21]\n",
      "[1, 2, 3, 5, 8]\n"
     ]
    },
    {
     "data": {
      "text/plain": [
       "[21, 13, 8, 5, 3, 2, 1]"
      ]
     },
     "execution_count": 19,
     "metadata": {},
     "output_type": "execute_result"
    }
   ],
   "source": [
    "print(l[0]) # primo elemento della lista\n",
    "print(l[1]) # secondo elemento della lista\n",
    "print(l[5]) # sesto elemento della lista\n",
    "print(l[-1]) # ultimo elemento della lista\n",
    "print(l[-3]) # terzultimo elemento della lista\n",
    "print(l[4:6]) # dal quarto (incluso) al sesto (esluso)\n",
    "print(l[:3]) # fino al terzo elemento\n",
    "print(l[-2:]) # ultimi due elementi\n",
    "print(l[:-2]) # fino agli ultimi due elementi\n",
    "l[::-1] # dall'ultimo al primo"
   ]
  },
  {
   "cell_type": "code",
   "execution_count": 32,
   "metadata": {},
   "outputs": [
    {
     "name": "stdout",
     "output_type": "stream",
     "text": [
      "[1, 2, 3, 5, 8, 13, 21]\n",
      "[90, 100, 3, 5, 8, 13, 21]\n",
      "[90, 100, 3, 5, 8, 13, 21, 123]\n",
      "[90, 100, 3, 145, 5, 8, 13, 21, 123]\n",
      "[90, 100, 3, 5, 8, 13, 21, 123]\n",
      "[90, 3, 5, 8, 13, 21, 123]\n",
      "True\n",
      "[90, 3, 5, 8, 13, 21, 123, 90, 3, 5, 8, 13, 21, 123]\n",
      "6\n",
      "1\n",
      "[['Italiano', 'Storia', 'Matematica', 'Matematica', 'Geografia', 'Filosofia'], ['Latino', 'Latino', 'Matematica', 'Italiano', 'Italiano', 'Educazione Fisica'], ['Italiano', 'Inglese', 'Matematica', 'Filosofia', 'Filosofia', 'Latino'], ['Filosofia', 'Italiano', 'Matematica', 'Matematica', 'Inglese', 'Chimica'], ['Educazione Fisica', 'Filosofia', 'Latino', 'Latino', 'Storia', 'Italiano']]\n",
      "['Italiano', 'Inglese', 'Matematica', 'Filosofia', 'Filosofia', 'Latino']\n",
      "Filosofia\n"
     ]
    }
   ],
   "source": [
    "print(l)\n",
    "l[:2] = [90, 100] # modifica elementi di una lista\n",
    "print(l)\n",
    "\n",
    "l.append(123) # aggiunta elementi in fondo alla lista\n",
    "print(l)\n",
    "\n",
    "l.insert(3, 145) # aggiunta elemento in posizione 4 (3+1) della lista\n",
    "print(l)\n",
    "\n",
    "l.remove(145) # rimuove l'elemento uguale a 145 nella lista\n",
    "print(l)\n",
    "\n",
    "l.pop(1) # rimuove l'elemento in posizione 2 (1+1) nella lista\n",
    "print(l)\n",
    "\n",
    "print(13 in l) # verifica, con True/False, se un elemento è nella lista\n",
    "\n",
    "print(l+l) # due liste di seguito\n",
    "\n",
    "print(l.index(123)) # indice di un elemento\n",
    "print(l.count(13)) # count di un elemento\n",
    "\n",
    "subjects_week = [\n",
    "                 [\"Italiano\", \"Storia\", \"Matematica\", \"Matematica\", \"Geografia\", \"Filosofia\"],\n",
    "                 [\"Latino\", \"Latino\", \"Matematica\", \"Italiano\", \"Italiano\", \"Educazione Fisica\"], \n",
    "                 [\"Italiano\", \"Inglese\", \"Matematica\", \"Filosofia\", \"Filosofia\", \"Latino\"], \n",
    "                 [\"Filosofia\", \"Italiano\", \"Matematica\", \"Matematica\", \"Inglese\", \"Chimica\"], \n",
    "                 [\"Educazione Fisica\", \"Filosofia\", \"Latino\", \"Latino\", \"Storia\", \"Italiano\"] \n",
    "                ]\n",
    "\n",
    "print(subjects_week) #lista annidata\n",
    "print(subjects_week[2]) # terza lista dentro la lista totale\n",
    "print(subjects_week[2][3]) # 4° elemento in 3° lista"
   ]
  },
  {
   "cell_type": "code",
   "execution_count": 59,
   "metadata": {},
   "outputs": [
    {
     "name": "stdout",
     "output_type": "stream",
     "text": [
      "['cane', 'gatto', 'topo']\n",
      "['cane', 'tigre', 'topo']\n",
      "['cane', 'tigre', 'topo']\n"
     ]
    }
   ],
   "source": [
    "l1 = [\"cane\", \"gatto\", \"topo\"] # se creo e modifico una copia di una lista, non modifico anche l'originale\n",
    "print(l1)\n",
    "l2 = l1\n",
    "l2[1] = \"tigre\"\n",
    "print(l2)\n",
    "print(l1)"
   ]
  },
  {
   "attachments": {},
   "cell_type": "markdown",
   "metadata": {},
   "source": [
    "## Tuple"
   ]
  },
  {
   "attachments": {},
   "cell_type": "markdown",
   "metadata": {},
   "source": [
    "La tupla è un tipo di dati molto simile alla lista, la differenza principale è che una tupla una volta creata non può essere modificata, inoltre, a differenza delle liste, la tupla è idonea a contenere diversi tipi di dati. Possiamo creare una tupla inserendo gli elementi tra parentesi tonde e separandoli con una virgola."
   ]
  },
  {
   "cell_type": "code",
   "execution_count": 33,
   "metadata": {},
   "outputs": [
    {
     "name": "stdout",
     "output_type": "stream",
     "text": [
      "(1, 2, 3, 5, 8, 13, 21) <class 'tuple'>\n"
     ]
    }
   ],
   "source": [
    "t = (1, 2 ,3 ,5 ,8 ,13 ,21)\n",
    "print(t, type(t))"
   ]
  },
  {
   "cell_type": "code",
   "execution_count": 36,
   "metadata": {},
   "outputs": [
    {
     "name": "stdout",
     "output_type": "stream",
     "text": [
      "1\n",
      "21\n",
      "(1, 2, 3)\n",
      "(5, 8, 13)\n",
      "1\n",
      "1\n",
      "(('italiano', 7), ('latino', 7), ('greco', 4), ('filosofia', 6), ('matematica', 10))\n",
      "('italiano', 7)\n",
      "italiano\n",
      "7\n"
     ]
    }
   ],
   "source": [
    "print(t[0]) # primo elemento della tupla\n",
    "print(t[-1]) # ultimo elemento della tupla\n",
    "print(t[:3]) # primi 3 elementi\n",
    "print(t[3:6]) # dal terzo (incluso) al sesto (escluso)\n",
    "print(t.index(2)) # indice di un elemento\n",
    "print(t.count(3)) # count di un elemento\n",
    "t.append(34) # per aggiungere elemento in fondo a tupla\n",
    "t.append((\"inglese\", 6)) # per aggiungere elemento \"inglese\" in posizione 7 (6+1)\n",
    "\n",
    "subjects_vote =((\"italiano\", 7), (\"latino\", 7), (\"greco\", 4), (\"filosofia\", 6), (\"matematica\", 10))\n",
    "print(subjects_vote) # tuple annidate\n",
    "print(subjects_vote[0])\n",
    "print(subjects_vote[0][0])\n",
    "print(subjects_vote[0][1])"
   ]
  },
  {
   "attachments": {},
   "cell_type": "markdown",
   "metadata": {},
   "source": [
    "## Set e Frozenset"
   ]
  },
  {
   "attachments": {},
   "cell_type": "markdown",
   "metadata": {},
   "source": [
    "i set sono insiemi di elementi unici non ordinati, questo vuol dire che un set non può contenere due volte lo stesso elemento e che non tiene conto della disposizione degli elementi al suo interno. Possiamo creare un set inserendo gli elementi tra parentesi graffe e separandoli con una virgola."
   ]
  },
  {
   "cell_type": "code",
   "execution_count": 38,
   "metadata": {},
   "outputs": [
    {
     "name": "stdout",
     "output_type": "stream",
     "text": [
      "{1, 2, 3, 4, 5} <class 'set'>\n"
     ]
    }
   ],
   "source": [
    "my_set = {1,2,2,3,4,5,5}\n",
    "print(my_set, type(my_set))"
   ]
  },
  {
   "cell_type": "code",
   "execution_count": 42,
   "metadata": {},
   "outputs": [
    {
     "name": "stdout",
     "output_type": "stream",
     "text": [
      "{1, 2, 3, 4, 5, 'Chimica'}\n",
      "{1, 2, 3, 4, 5}\n",
      "{2, 3, 4, 5}\n",
      "set()\n"
     ]
    }
   ],
   "source": [
    "my_set.add(\"Chimica\") # aggiungiamo la stringa 'Chimica' al set\n",
    "print(my_set)\n",
    "my_set.remove(\"Chimica\") # rimuoviamo la stringa 'Chimica' dal set; anche con .discard(...)\n",
    "print(my_set)\n",
    "my_set.pop() # rimuoviamo un elemento a caso dal set\n",
    "print(my_set)\n",
    "my_set.clear() # svuotiamo il set\n",
    "print(my_set)"
   ]
  },
  {
   "attachments": {},
   "cell_type": "markdown",
   "metadata": {},
   "source": [
    "Possiamo anche creare un set immutabile utilizzando frozenset, in questo caso una volta creato non potremo più aggiungere o rimuovere elementi dal set."
   ]
  },
  {
   "cell_type": "code",
   "execution_count": 43,
   "metadata": {},
   "outputs": [
    {
     "name": "stdout",
     "output_type": "stream",
     "text": [
      "frozenset({'Filosofia', 'Matematica', 'Geografia', 'Storia', 'Italiano'})\n"
     ]
    }
   ],
   "source": [
    "subjects_frozen = frozenset({\"Italiano\", \"Storia\", \"Matematica\", \"Matematica\", \"Geografia\", \"Filosofia\"})\n",
    "print(subjects_frozen)"
   ]
  },
  {
   "attachments": {},
   "cell_type": "markdown",
   "metadata": {},
   "source": [
    "## Dizionario"
   ]
  },
  {
   "attachments": {},
   "cell_type": "markdown",
   "metadata": {},
   "source": [
    "Un dizionario è un tipo Python che ci permette di salvare dei dati in un formato chiave valore, in maniera tale da poter utilizzare la chiave per accedere al valore. Possiamo creare un dizionario con Python racchiudendolo tra parentesi graffe e separando chiavi e valori con (:)"
   ]
  },
  {
   "cell_type": "code",
   "execution_count": 44,
   "metadata": {},
   "outputs": [
    {
     "name": "stdout",
     "output_type": "stream",
     "text": [
      "{'italiano': 7, 'latino': 7, 'greco': 4, 'filosofia': 6, 'matematica': 10} <class 'dict'>\n"
     ]
    }
   ],
   "source": [
    "report = {\"italiano\":7, \"latino\":7, \"greco\":4, \"filosofia\":6, \"matematica\":10}\n",
    "print(report, type(report))"
   ]
  },
  {
   "cell_type": "code",
   "execution_count": 53,
   "metadata": {},
   "outputs": [
    {
     "name": "stdout",
     "output_type": "stream",
     "text": [
      "7\n",
      "{'italiano': 7, 'latino': 7, 'greco': 6, 'filosofia': 6, 'matematica': 10, 'fisica': 10}\n",
      "{'italiano': 7, 'latino': 7, 'greco': 6, 'filosofia': 6, 'matematica': 10, 'fisica': 10}\n",
      "{'italiano': 7, 'latino': 7, 'greco': 6, 'filosofia': 6, 'matematica': 10, 'fisica': 10, 'inglese': {'grammatica': 7, 'letteratura': 6}}\n",
      "dict_values([7, 7, 6, 6, 10, 10, {'grammatica': 7, 'letteratura': 6}]) <class 'dict_values'>\n",
      "dict_keys(['italiano', 'latino', 'greco', 'filosofia', 'matematica', 'fisica', 'inglese']) <class 'dict_keys'>\n"
     ]
    }
   ],
   "source": [
    "print(report[\"latino\"]) # accediamo al valore per la chiave 'latino'\n",
    "# print(report[\"fisica\"]) # Se la chiave è inesistente otterremo un'eccezione di tipo KeyError\n",
    "report[\"fisica\"] = 10 # per aggiungere un elemento al dizionario\n",
    "print(report)\n",
    "report[\"greco\"] = 6 # per modificare un valore di un elemento del dizionario\n",
    "print(report)\n",
    "report[\"inglese\"] = {\"grammatica\":7, \"letteratura\":6} # per dizionario come elemento di un dizionario\n",
    "print(report)\n",
    "\n",
    "values = report.values() # per i valori di un dizionario, più utile se convertito in lista con list()\n",
    "print(values, type(values))\n",
    "\n",
    "keys = report.keys() # per le chiavi di un dizionario, più utile se convertito in lista con list()\n",
    "print(keys, type(keys))"
   ]
  },
  {
   "attachments": {},
   "cell_type": "markdown",
   "metadata": {},
   "source": [
    "## Espressioni booleane"
   ]
  },
  {
   "attachments": {},
   "cell_type": "markdown",
   "metadata": {},
   "source": [
    "Un'espressione booleana, ci permette di eseguire confronti tra i dati, le principali sono:\n",
    "\n",
    "- ==: ritorna True se le due espressioni sono uguali, altrimenti ritorna False\n",
    "- !=: ritorna True se le due espressioni sono diverse, altrimenti ritorna False\n",
    "- *>*: ritorna True se la prima espressione è maggiore della seconda (solo numeri)\n",
    "- *>=*: ritorna True se la prima espressione è maggiore o uguale alla seconda (solo numeri)\n",
    "- <: ritorna True se la prima espressione è minore della seconda (solo numeri)\n",
    "- <=: ritorna True se la prima espressione è minore o uguale alla seconda (solo numeri)\n",
    "\n",
    "In Python possiamo utilizzare queste espressioni booleane per confrontare qualsiasi tipo di dato (con alcune eccezioni per le collezioni)."
   ]
  },
  {
   "cell_type": "code",
   "execution_count": 60,
   "metadata": {},
   "outputs": [
    {
     "name": "stdout",
     "output_type": "stream",
     "text": [
      "True\n",
      "True\n",
      "False\n",
      "\n",
      "\n",
      "False\n",
      "False\n",
      "True\n",
      "\n",
      "\n",
      "True\n",
      "False\n",
      "True\n"
     ]
    }
   ],
   "source": [
    "print(1==1)\n",
    "print(3+2==6-1)\n",
    "print(1!=1)\n",
    "\n",
    "print(\"\\n\")\n",
    "\n",
    "print(5>6)\n",
    "print(5<5)\n",
    "print(5<=5)\n",
    "\n",
    "print(\"\\n\")\n",
    "\n",
    "print(\"gatto\"==\"gatto\")\n",
    "print(\"gatto\"==\"cane\")\n",
    "print(\"cane\"!=\"gatto\")"
   ]
  },
  {
   "attachments": {},
   "cell_type": "markdown",
   "metadata": {},
   "source": [
    "## IF statement"
   ]
  },
  {
   "attachments": {},
   "cell_type": "markdown",
   "metadata": {},
   "source": [
    "Possiamo definire un'istruzione condizionale utilizzando lo statement if. Se if riceve un valore pari a True, allora il blocco di codice indentato che segue verrà eseguito, altrimenti no."
   ]
  },
  {
   "cell_type": "code",
   "execution_count": 61,
   "metadata": {},
   "outputs": [
    {
     "name": "stdout",
     "output_type": "stream",
     "text": [
      "Questo testo viene stampato\n"
     ]
    }
   ],
   "source": [
    "PRINT = True\n",
    "\n",
    "if(PRINT == True):\n",
    "  print(\"Questo testo viene stampato\")"
   ]
  },
  {
   "attachments": {},
   "cell_type": "markdown",
   "metadata": {},
   "source": [
    "## ELSE statement"
   ]
  },
  {
   "attachments": {},
   "cell_type": "markdown",
   "metadata": {},
   "source": [
    "Cosa succede se la condizione non viene soddisfatta (in questo caso, se non inseriamo la mail corretta) ? Nulla, a meno che non definiamo del codice ad hoc all'interno di uno statement else, che puo seguire un'if."
   ]
  },
  {
   "cell_type": "code",
   "execution_count": 63,
   "metadata": {},
   "outputs": [
    {
     "name": "stdout",
     "output_type": "stream",
     "text": [
      "Accesso Negato !\n"
     ]
    }
   ],
   "source": [
    "EMAIL = \"giuseppe@profession.ai\"\n",
    "\n",
    "email = \"no\"\n",
    "\n",
    "if(email == EMAIL):\n",
    "  print(\"Hai 5 nuove email !\")\n",
    "else:\n",
    "  print(\"Accesso Negato !\")"
   ]
  },
  {
   "attachments": {},
   "cell_type": "markdown",
   "metadata": {},
   "source": [
    "in Python abbiamo i seguenti operatori logici:\n",
    "\n",
    "- and: ritorna True se entrambe le due condizioni sono True, altrimenti ritorna False\n",
    "- or: ritorna True se almeno una delle due condizioni è True, altrimenti ritorna False\n",
    "- not: esegue una negazione, se la condizione è True ritornerà False, se è False ritornerà True"
   ]
  },
  {
   "cell_type": "code",
   "execution_count": 64,
   "metadata": {},
   "outputs": [
    {
     "name": "stdout",
     "output_type": "stream",
     "text": [
      "True\n",
      "False\n",
      "True\n",
      "False\n",
      "True\n",
      "False\n"
     ]
    }
   ],
   "source": [
    "# entrambe le condizioni sono soddisfatte\n",
    "print(1==1 and \"casa\"!=\"albergo\")\n",
    "\n",
    "# la prima condizione non è soddisfatta\n",
    "print(1==2 and \"casa\"!=\"albergo\")\n",
    "\n",
    "# la prima condizione non è soddisfatta\n",
    "print(1==2 or \"casa\"!=\"albergo\")\n",
    "\n",
    "# Nessuna condizione è soddisfatta\n",
    "print(1==2 or \"casa\"==\"albergo\")\n",
    "\n",
    "# Nessuna condizione è soddisfatta\n",
    "print(not(1==2 or \"casa\"==\"albergo\"))\n",
    "\n",
    "# Tutte le condizioni sono soddisfatte\n",
    "print(not(1==1 or \"casa\"!=\"albergo\"))"
   ]
  },
  {
   "attachments": {},
   "cell_type": "markdown",
   "metadata": {},
   "source": [
    "## ELIF statement"
   ]
  },
  {
   "attachments": {},
   "cell_type": "markdown",
   "metadata": {},
   "source": [
    "Se vogliamo gestire condizioni multiple possiamo utilizzare lo statement elif."
   ]
  },
  {
   "cell_type": "code",
   "execution_count": 65,
   "metadata": {},
   "outputs": [
    {
     "name": "stdout",
     "output_type": "stream",
     "text": [
      "4 è un numero positivo pari\n"
     ]
    }
   ],
   "source": [
    "n = input(\"Inserisci un numero: \")\n",
    "n = int(n)\n",
    "\n",
    "if(n%2==0 and n>=0):\n",
    "    print(\"%d è un numero positivo pari\" % n)\n",
    "elif(n%2==1 and n>=0):\n",
    "    print(\"%d è un numero positivo dispari\" % n)\n",
    "elif(n%2==0 and n<0):\n",
    "    print(\"%d è un numero negativo pari\" % n)\n",
    "elif(n%2==1 and n<0):\n",
    "    print(\"%d è un numero negativo dispari\" % n)"
   ]
  },
  {
   "attachments": {},
   "cell_type": "markdown",
   "metadata": {},
   "source": [
    "## WHILE ciclo"
   ]
  },
  {
   "attachments": {},
   "cell_type": "markdown",
   "metadata": {},
   "source": [
    "Il ciclo while esegue un blocco di codice in maniera ciclica fin quando la condizione espressa al suo interno non è verificata."
   ]
  },
  {
   "cell_type": "code",
   "execution_count": 66,
   "metadata": {},
   "outputs": [],
   "source": [
    "msg = \"\"\n",
    "\n",
    "while msg!=\"esci\":\n",
    "    msg = input(\"Giuseppe: \")"
   ]
  },
  {
   "attachments": {},
   "cell_type": "markdown",
   "metadata": {},
   "source": [
    "I cicli vengono spesso combinati con una variabile indice, che tiene traccia del numero di ciclo corrente."
   ]
  },
  {
   "cell_type": "code",
   "execution_count": 67,
   "metadata": {},
   "outputs": [
    {
     "name": "stdout",
     "output_type": "stream",
     "text": [
      "0\n",
      "1\n",
      "2\n",
      "3\n",
      "4\n",
      "5\n"
     ]
    }
   ],
   "source": [
    "n = int(input(\"Fino a che numero vuoi stampare ? \"))\n",
    "i = 0 # il nostro contatore\n",
    "\n",
    "while i<=n:\n",
    "  print(i)\n",
    "  i+=1 # incrementiamo il contatore, equivale a i=i+1"
   ]
  },
  {
   "attachments": {},
   "cell_type": "markdown",
   "metadata": {},
   "source": [
    "Possiamo combinare un ciclo con delle istruzioni condizionali utilizzando lo statement if.\n",
    "\n",
    "L'utilizzo più popolare della variabile indice è quello di permetterci di accedere agli elementi di una collezione."
   ]
  },
  {
   "cell_type": "code",
   "execution_count": 68,
   "metadata": {},
   "outputs": [
    {
     "name": "stdout",
     "output_type": "stream",
     "text": [
      "La mia lista della spesa:\n",
      "1) tofu\n",
      "2) latte di soia\n",
      "3) riso basmati\n",
      "4) yogurt greco\n"
     ]
    }
   ],
   "source": [
    "shopping_list = [\"tofu\", \"latte di soia\", \"riso basmati\",\"yogurt greco\"]\n",
    "i = 0\n",
    "print(\"La mia lista della spesa:\")\n",
    "\n",
    "while i < (len(shopping_list)):\n",
    "    print(\"%d) %s\" % (i+1,shopping_list[i]))\n",
    "    i+=1"
   ]
  },
  {
   "attachments": {},
   "cell_type": "markdown",
   "metadata": {},
   "source": [
    "## FOR ciclo"
   ]
  },
  {
   "attachments": {},
   "cell_type": "markdown",
   "metadata": {},
   "source": [
    "Il ciclo for si differenzia dal ciclo while per il fatto che la variabile indice è gestita automaticamente."
   ]
  },
  {
   "cell_type": "code",
   "execution_count": 69,
   "metadata": {},
   "outputs": [
    {
     "name": "stdout",
     "output_type": "stream",
     "text": [
      "0 è pari\n",
      "1 è dispari\n",
      "2 è pari\n",
      "3 è dispari\n",
      "4 è pari\n"
     ]
    }
   ],
   "source": [
    "n = int(input(\"Fino a che numero vuoi stampare ? \"))\n",
    "i = 0\n",
    "\n",
    "for i in range(0, n):\n",
    "  print(\"%d è %s\" % (i, \"dispari\" if i%2 else \"pari\"))  "
   ]
  },
  {
   "attachments": {},
   "cell_type": "markdown",
   "metadata": {},
   "source": [
    "Anche in questo caso possiamo utilizzare l'indice per accedere agli elementi di una collezione."
   ]
  },
  {
   "cell_type": "code",
   "execution_count": 70,
   "metadata": {},
   "outputs": [
    {
     "name": "stdout",
     "output_type": "stream",
     "text": [
      "La mia lista della spesa:\n",
      "1) tofu\n",
      "2) latte di soia\n",
      "3) riso basmati\n",
      "4) yogurt greco\n"
     ]
    }
   ],
   "source": [
    "shopping_list = [\"tofu\", \"latte di soia\", \"riso basmati\",\"yogurt greco\"]\n",
    "\n",
    "print(\"La mia lista della spesa:\")\n",
    "\n",
    "for i in range(len(shopping_list)):\n",
    "    print(\"%d) %s\" % (i+1,shopping_list[i]))"
   ]
  },
  {
   "attachments": {},
   "cell_type": "markdown",
   "metadata": {},
   "source": [
    "A differenza di molti altri linguaggi di programmazione, Python ci permette di iterare sugli elementi di una collezione direttamente."
   ]
  },
  {
   "cell_type": "code",
   "execution_count": 71,
   "metadata": {},
   "outputs": [
    {
     "name": "stdout",
     "output_type": "stream",
     "text": [
      "La mia lista della spesa:\n",
      "-tofu\n",
      "-latte di soia\n",
      "-riso basmati\n",
      "-yogurt greco\n"
     ]
    }
   ],
   "source": [
    "shopping_list = [\"tofu\", \"latte di soia\", \"riso basmati\",\"yogurt greco\"]\n",
    "\n",
    "print(\"La mia lista della spesa:\")\n",
    "\n",
    "for entry in shopping_list:\n",
    "    print(\"-\"+entry)"
   ]
  },
  {
   "attachments": {},
   "cell_type": "markdown",
   "metadata": {},
   "source": [
    "Spesso ci può capitare di avere bisogno sia dell'elemento che dell'indice, in questo caso possiamo utilizzare la funzione enumerate."
   ]
  },
  {
   "cell_type": "code",
   "execution_count": 72,
   "metadata": {},
   "outputs": [
    {
     "name": "stdout",
     "output_type": "stream",
     "text": [
      "La mia lista della spesa:\n",
      "1) tofu\n",
      "2) latte di soia\n",
      "3) riso basmati\n",
      "4) yogurt greco\n"
     ]
    }
   ],
   "source": [
    "shopping_list = [\"tofu\", \"latte di soia\", \"riso basmati\",\"yogurt greco\"]\n",
    "\n",
    "print(\"La mia lista della spesa:\")\n",
    "\n",
    "for i,entry in enumerate(shopping_list):\n",
    "    print(\"%d) %s\" % (i+1, entry))"
   ]
  },
  {
   "attachments": {},
   "cell_type": "markdown",
   "metadata": {},
   "source": [
    "## Statement BREAK e CONTINUE"
   ]
  },
  {
   "attachments": {},
   "cell_type": "markdown",
   "metadata": {},
   "source": [
    "Utilizzando lo statement break possiamo interrompere l'esecuzione di un ciclo"
   ]
  },
  {
   "cell_type": "code",
   "execution_count": 76,
   "metadata": {},
   "outputs": [
    {
     "name": "stdout",
     "output_type": "stream",
     "text": [
      "La mia lista della spesa:\n",
      "1) tofu\n",
      "2) riso basmati\n"
     ]
    }
   ],
   "source": [
    "shopping_list = [\"tofu\", \"riso basmati\", \"gelato di soia\", \"cereali integrali\", \"muesli al cioccolato\", \"yogurt greco\", \"latte di soia\",]\n",
    "print(\"La mia lista della spesa:\")\n",
    "\n",
    "for i,entry in enumerate(shopping_list):\n",
    "    if(\"soia\" in entry):\n",
    "      break\n",
    "\n",
    "    print(\"%d) %s\" % (i+1, entry))"
   ]
  },
  {
   "attachments": {},
   "cell_type": "markdown",
   "metadata": {},
   "source": [
    "utilizzando lo statement continue verrà soltanto interrotta l'esecuzione corrente e il codice passerà alla successiva (come un passa oltre)."
   ]
  },
  {
   "cell_type": "code",
   "execution_count": 77,
   "metadata": {},
   "outputs": [
    {
     "name": "stdout",
     "output_type": "stream",
     "text": [
      "La mia lista della spesa:\n",
      "1) tofu\n",
      "2) riso basmati\n",
      "4) cereali integrali\n",
      "5) muesli al cioccolato\n",
      "6) yogurt greco\n"
     ]
    }
   ],
   "source": [
    "shopping_list = [\"tofu\", \"riso basmati\", \"gelato di soia\", \"cereali integrali\", \"muesli al cioccolato\", \"yogurt greco\", \"latte di soia\",]\n",
    "print(\"La mia lista della spesa:\")\n",
    "\n",
    "for i,entry in enumerate(shopping_list):\n",
    "    if(\"soia\" in entry):\n",
    "      continue\n",
    "\n",
    "    print(\"%d) %s\" % (i+1, entry))"
   ]
  },
  {
   "attachments": {},
   "cell_type": "markdown",
   "metadata": {},
   "source": [
    "## Funzioni"
   ]
  },
  {
   "attachments": {},
   "cell_type": "markdown",
   "metadata": {},
   "source": [
    "Possiamo definire una nuova funzione utilizzando lo statement def, seguito dal nome della funzione e parentesi tonde."
   ]
  },
  {
   "cell_type": "code",
   "execution_count": 90,
   "metadata": {},
   "outputs": [
    {
     "name": "stdout",
     "output_type": "stream",
     "text": [
      "Hello\n"
     ]
    }
   ],
   "source": [
    "def say_hello():\n",
    "  print(\"Hello\")\n",
    "\n",
    "\n",
    "say_hello()"
   ]
  },
  {
   "attachments": {},
   "cell_type": "markdown",
   "metadata": {},
   "source": [
    "Una funzione può anche ricevere dei dati in ingresso, chiamati parametri, che verranno utilizzati al suo interno. Il valore effettivo che passiamo al parametro durante la chiamata a funzione è chiamato argomento.\n",
    "\n",
    "Se una funzione che richiede degli argomenti viene invocata senza, allora viene generata un'eccezione di tipo TypeError."
   ]
  },
  {
   "cell_type": "code",
   "execution_count": 92,
   "metadata": {},
   "outputs": [
    {
     "name": "stdout",
     "output_type": "stream",
     "text": [
      "bye bye\n"
     ]
    }
   ],
   "source": [
    "def say_something(something): #something è il parametro\n",
    "  print(something)\n",
    "\n",
    "say_something(\"bye bye\") # 'bye bye' è l'argomento, cioè il valore che passiamo al parametro something."
   ]
  },
  {
   "attachments": {},
   "cell_type": "markdown",
   "metadata": {},
   "source": [
    "Fortunatamente è possibile utilizzare dei valore di default che verranno utilizzati nel caso in cui non passassimo l'argomento. Questi vengono chiamati keyword arguments, mentre quelli senza valore di default vengono chiamati positional arguments."
   ]
  },
  {
   "cell_type": "code",
   "execution_count": 93,
   "metadata": {},
   "outputs": [
    {
     "name": "stdout",
     "output_type": "stream",
     "text": [
      "I love you\n",
      "something\n"
     ]
    }
   ],
   "source": [
    "def say_something(something=\"something\"):\n",
    "  print(something)\n",
    "\n",
    "\n",
    "say_something(something=\"I love you\")\n",
    "say_something()"
   ]
  },
  {
   "attachments": {},
   "cell_type": "markdown",
   "metadata": {},
   "source": [
    "Una funzione può anche ritornare un valore che ha elaborato, utilizzando lo statement return.\n",
    "\n",
    "Le funzioni che ritornano un valore vengono chiamate fruitful functions, quelle che non ritornano nessun valore, vengono chiamate void functions. In realtà, pur non specificando nessun valore di ritorno, una funzione python ritorna sempre qualcosa, cioè None."
   ]
  },
  {
   "cell_type": "code",
   "execution_count": 94,
   "metadata": {},
   "outputs": [
    {
     "name": "stdout",
     "output_type": "stream",
     "text": [
      "arrivederci\n"
     ]
    }
   ],
   "source": [
    "def say_something(something=\"something\"):\n",
    "  say = something\n",
    "  return say\n",
    "\n",
    "say = say_something(\"arrivederci\")\n",
    "print(say)"
   ]
  },
  {
   "attachments": {},
   "cell_type": "markdown",
   "metadata": {},
   "source": [
    "Le funzioni possono contenere statement come IF, ELSE, FOR, WHILE, CONTINUE, BREAK; anche annidati."
   ]
  },
  {
   "attachments": {},
   "cell_type": "markdown",
   "metadata": {},
   "source": [
    "# Programmazione ad oggetti"
   ]
  },
  {
   "attachments": {},
   "cell_type": "markdown",
   "metadata": {},
   "source": [
    "## Classi"
   ]
  },
  {
   "attachments": {},
   "cell_type": "markdown",
   "metadata": {},
   "source": [
    "Per creare un oggetto dobbiamo definire una classe che lo rappresenterà, le funzioni definite all'interno della classe sono chiamati metodi della classe. Ad esempio, creiamo una classe che rappresentà un triangolo, i cui metodi ci permettono di calcolarne area e perimetro."
   ]
  },
  {
   "cell_type": "code",
   "execution_count": 96,
   "metadata": {},
   "outputs": [],
   "source": [
    "class Triangle:\n",
    "  \n",
    "    def area(self, b, h):\n",
    "        return b*h/2.\n",
    "  \n",
    "    def perimeter(self, a, b, c):\n",
    "        return a+b+c"
   ]
  },
  {
   "attachments": {},
   "cell_type": "markdown",
   "metadata": {},
   "source": [
    "Come puoi vedere ogni metodo della classe ha come primo parametro self, questo ci permette di identificare attributi e metodi all'interno della classe stessa. Concettualmente un'oggetto è un'instanza di una classe. Instanziamo la classe Triangle per creare l'oggetto e usiamo i suoi metodi."
   ]
  },
  {
   "cell_type": "code",
   "execution_count": 97,
   "metadata": {},
   "outputs": [
    {
     "name": "stdout",
     "output_type": "stream",
     "text": [
      "Area del triangolo:  6\n",
      "Perimetro del triangolo: 13\n"
     ]
    }
   ],
   "source": [
    "triangle = Triangle() # istanziamo la classe (creiamo l'oggetto)\n",
    "\n",
    "print(\"Area del triangolo: %2.f\" % triangle.area(3.,4.))\n",
    "print(\"Perimetro del triangolo: %2.f\" % triangle.perimeter(5.,3.,5.))"
   ]
  },
  {
   "attachments": {},
   "cell_type": "markdown",
   "metadata": {},
   "source": [
    "Per calcolare area e perimetro dobbiamo passare di volta in volta le informazioni sulle misure di base, altezze e lati del triangolo, che funziona ma è concettualmente sbagliato, un'oggetto deve contenere le proprie informazioni al suo interno, in apposite variabili chiamate attributi. Possiamo definire gli attributi della classe all'interno di un metodo costruttore che in Python è l'init"
   ]
  },
  {
   "cell_type": "code",
   "execution_count": 99,
   "metadata": {},
   "outputs": [
    {
     "name": "stdout",
     "output_type": "stream",
     "text": [
      "Area del triangolo:  6\n",
      "Perimetro del triangolo: 13\n"
     ]
    }
   ],
   "source": [
    "class Triangle:\n",
    "  \n",
    "    def __init__(self, a, b, c, h):\n",
    "    \n",
    "        # Questa istruzione è equivalente a quella sotto\n",
    "        #self.a, self.b, self.c, self.h = a, b, c ,h\n",
    "\n",
    "        self.a = a\n",
    "        self.b = b\n",
    "        self.c = c\n",
    "        self.h = h\n",
    "\n",
    "    \n",
    "    def area(self):\n",
    "            return self.b*self.h/2\n",
    "    \n",
    "    \n",
    "    def perimeter(self):\n",
    "        return self.a+self.b+self.c\n",
    "  \n",
    "  \n",
    "triangle = Triangle(5.,3.,5.,4.)\n",
    "print(\"Area del triangolo: %2.f\" % triangle.area())\n",
    "print(\"Perimetro del triangolo: %2.f\" % triangle.perimeter())"
   ]
  },
  {
   "attachments": {},
   "cell_type": "markdown",
   "metadata": {},
   "source": [
    "## Moduli"
   ]
  },
  {
   "attachments": {},
   "cell_type": "markdown",
   "metadata": {},
   "source": [
    "I moduli ci permettono di organizzare il codice dei nostri programmi in più file, separandone le parti e garantendo una riutilizzabilità ottimale del codice. Nella pratica, un modulo non è altro che uno script python (.py), con dentro definite delle classi o delle funzioni, possiamo utilizzare tali classi o tali funzioni all'interno di un'altro script python utilizzando import\n",
    "\n",
    "NOTA BENE i due script devono trovarsi all'interno della stessa directory"
   ]
  },
  {
   "cell_type": "code",
   "execution_count": null,
   "metadata": {},
   "outputs": [],
   "source": [
    "import geometry\n",
    "\n",
    "triangle = geometry.Triangle(3., 5., 4., 6.)\n",
    "print(\"L'area del triangolo è %.2f\" % triangle.area())\n",
    "\n",
    "square = geometry.Square(5.)\n",
    "print(\"L'area del quadrato è %.2f\" % square.area())\n",
    "\n",
    "rectangle = geometry.Rectangle(5.,4.)\n",
    "print(\"L'area del rettangolo è %.2f\" % rectangle.area())"
   ]
  },
  {
   "attachments": {},
   "cell_type": "markdown",
   "metadata": {},
   "source": [
    "Certe volte è utile assegnare un alias ad una funzione o ad una classe importanta, questa cosa è utile specialmente nel caso in cui nel nostro codice c'è già un'altro oggetto con lo stesso nome."
   ]
  },
  {
   "cell_type": "code",
   "execution_count": null,
   "metadata": {},
   "outputs": [],
   "source": [
    "from geometry import Triangle as t\n",
    "\n",
    "triangle = Triangle(3., 5., 4., 6.)\n",
    "print(\"L'area del triangolo è %.2f\" % triangle.area())"
   ]
  },
  {
   "attachments": {},
   "cell_type": "markdown",
   "metadata": {},
   "source": [
    "# Files"
   ]
  },
  {
   "attachments": {},
   "cell_type": "markdown",
   "metadata": {},
   "source": [
    "Se usi Google Colaboratory devi caricare i file che useremo all'interno del tuo ambiente virtuale, per farlo esegui il codice qui sotto, premi sul tasto upload che comparirà e carica il file proverbi.txt che puoi trovare all'interno della cartella data della directory Operare su file di testo della repository del corso."
   ]
  },
  {
   "cell_type": "code",
   "execution_count": null,
   "metadata": {},
   "outputs": [],
   "source": [
    "from google.colab import files\n",
    "uploaded = files.upload()"
   ]
  },
  {
   "attachments": {},
   "cell_type": "markdown",
   "metadata": {},
   "source": [
    "## File di testo"
   ]
  },
  {
   "attachments": {},
   "cell_type": "markdown",
   "metadata": {},
   "source": [
    "Utilizzando python possiamo aprire un file con la funzione open\n",
    "\n",
    "Per poter scrivere all'interno di un file dobbiamo aprire il file con i giusti permessi specificati nella funzione open:\n",
    "- r: apre il file in sola lettura (modalità di default)\n",
    "- r+: apre i file in lettura e scrittura, il puntatore viene posizionato all'inzio del file.\n",
    "- w: apre il file in sola scrittura, se il file esiste lo sovrascrive, se non esiste lo crea.\n",
    "- w+: apre il file in lettura e scrittura, se il file esiste lo sovrascrive, se non esiste lo crea.\n",
    "- a: apre il file in scrittura senza sovrascrivere il contenuto corrente.\n",
    "- a+: apre il file in lettura e scrittura senza sovrascrivere il contenuto corrente. Se il file non esiste lo crea.\n",
    "\n",
    "l'oggetto file tiene al suo interno un cursore che viene posizionato fino a dove abbiamo letto, in questo caso alla file del file. Per posizionare manualmente il cursore possiamo usare il metodo seek passando al suo interno la posizione in cui vogliamo posizionare il cursore.\n",
    "\n",
    "E' anche possibile leggere il contenuto di un file riga per riga usando il metodo read_lines(), che crea una lista con ogni riga del file.\n",
    "\n",
    "Quando non abbiamo più bisogno del file, dobbiamo sempre ricordare di chiuderlo utilizzando il metodo close()."
   ]
  },
  {
   "cell_type": "code",
   "execution_count": null,
   "metadata": {},
   "outputs": [],
   "source": [
    "proverbs_file = open(\"proverbi.txt\", 'w+')\n",
    "type(proverbs_file)\n",
    "\n",
    "proverbs = proverbs_file.read() # per leggere il contenuto del file\n",
    "print(proverbs)\n",
    "\n",
    "proverbs_file.seek(0) # per ritornare ad inizio file\n",
    "\n",
    "proverbs_file.seek(0)\n",
    "proverbs_file.readlines() # per leggere riga per riga\n",
    "\n",
    "proverb = \"\\nIl vino buono sta nelle botti piccole\"\n",
    "proverbs_file.write(proverb) # per scrivere una riga in un file; anche tutto in una sola riga, nella parentesi diretto\n",
    "\n",
    "proverbs_file.close()"
   ]
  },
  {
   "attachments": {},
   "cell_type": "markdown",
   "metadata": {},
   "source": [
    "## File CSV"
   ]
  },
  {
   "cell_type": "code",
   "execution_count": null,
   "metadata": {},
   "outputs": [],
   "source": [
    "import csv\n",
    "\n",
    "line_count = 0\n",
    "\n",
    "with open('shirts.csv') as csv_file: # stampa le righe\n",
    "    \n",
    "    csv_reader = csv.reader(csv_file)\n",
    "    \n",
    "    for row in csv_reader:\n",
    "      if line_count==0:\n",
    "        print(\"Columns names:\",row)\n",
    "      else:\n",
    "        print(f\"Row {line_count}:\",row)\n",
    "\n",
    "      line_count+=1"
   ]
  },
  {
   "cell_type": "code",
   "execution_count": null,
   "metadata": {},
   "outputs": [],
   "source": [
    "import csv\n",
    "\n",
    "with open('shirts.csv') as csv_file:\n",
    "    csv_reader = csv.DictReader(csv_file)\n",
    "    print(csv_reader.fieldnames) # stampiamo i nomi delle colonne"
   ]
  },
  {
   "cell_type": "code",
   "execution_count": null,
   "metadata": {},
   "outputs": [],
   "source": [
    "import csv\n",
    "\n",
    "with open('shirts.csv', mode='a', newline='') as csv_file: # per aggiungere righe\n",
    "    csv_file.write(\"\\n\")\n",
    "    csv_writer = csv.writer(csv_file)\n",
    "    csv_writer.writerow([100, \"XL\", \"ciano\", 39.99])\n",
    "    csv_writer.writerow([101, \"XXL\", \"magenta\", 59.99])"
   ]
  },
  {
   "attachments": {},
   "cell_type": "markdown",
   "metadata": {},
   "source": [
    "## File Json"
   ]
  },
  {
   "cell_type": "code",
   "execution_count": 105,
   "metadata": {},
   "outputs": [],
   "source": [
    "import json\n",
    "\n",
    "inventory = {\n",
    "    \"abbigliamento\":{\n",
    "        \"magliette\":[\n",
    "            {\"taglia\":\"XL\", \"colore\":\"rosso\", \"prezzo\":14.99},\n",
    "            {\"taglia\":\"L\", \"colore\":\"blu\", \"prezzo\":16.99},\n",
    "            {\"taglia\":\"L\", \"colore\":\"bianco\", \"prezzo\":12.99}\n",
    "        ],\n",
    "        \"pantaloni\":[\n",
    "            {\"taglia\":46, \"colore\":\"nero\", \"prezzo\":24.99},\n",
    "            {\"taglia\":48, \"colore\":\"nero\", \"prezzo\":24.99},\n",
    "            {\"taglia\":50, \"colore\":\"bianco\", \"prezzo\":22.99}\n",
    "        ]\n",
    "    },\n",
    "    \"accessori\":{\n",
    "        \"borsa\":\n",
    "        [\n",
    "          {\"marca\":\"Alvaro Vitali\", \"prezzo\":79.99},\n",
    "          {\"marca\":\"Ingino Massini\", \"prezzo\":49.99},\n",
    "        ],\n",
    "        \"cinture\":[\n",
    "            {\"colore\":\"nero\", \"prezzo\":8.99},\n",
    "            {\"colore\":\"marrone\", \"prezzo\":8.99}\n",
    "        ]\n",
    "    }\n",
    "}"
   ]
  },
  {
   "cell_type": "code",
   "execution_count": 106,
   "metadata": {},
   "outputs": [
    {
     "name": "stdout",
     "output_type": "stream",
     "text": [
      "<class 'str'>\n",
      "{\"abbigliamento\": {\"magliette\": [{\"taglia\": \"XL\", \"colore\": \"rosso\", \"prezzo\": 14.99}, {\"taglia\": \"L\", \"colore\": \"blu\", \"prezzo\": 16.99}, {\"taglia\": \"L\", \"colore\": \"bianco\", \"prezzo\": 12.99}], \"pantaloni\": [{\"taglia\": 46, \"colore\": \"nero\", \"prezzo\": 24.99}, {\"taglia\": 48, \"colore\": \"nero\", \"prezzo\": 24.99}, {\"taglia\": 50, \"colore\": \"bianco\", \"prezzo\": 22.99}]}, \"accessori\": {\"borsa\": [{\"marca\": \"Alvaro Vitali\", \"prezzo\": 79.99}, {\"marca\": \"Ingino Massini\", \"prezzo\": 49.99}], \"cinture\": [{\"colore\": \"nero\", \"prezzo\": 8.99}, {\"colore\": \"marrone\", \"prezzo\": 8.99}]}}\n"
     ]
    }
   ],
   "source": [
    "inventory_str = json.dumps(inventory) # per lettura\n",
    "print(type(inventory_str))\n",
    "print(inventory_str)"
   ]
  },
  {
   "cell_type": "code",
   "execution_count": 107,
   "metadata": {},
   "outputs": [
    {
     "name": "stdout",
     "output_type": "stream",
     "text": [
      "<class 'dict'>\n",
      "{'abbigliamento': {'magliette': [{'taglia': 'XL', 'colore': 'rosso', 'prezzo': 14.99}, {'taglia': 'L', 'colore': 'blu', 'prezzo': 16.99}, {'taglia': 'L', 'colore': 'bianco', 'prezzo': 12.99}], 'pantaloni': [{'taglia': 46, 'colore': 'nero', 'prezzo': 24.99}, {'taglia': 48, 'colore': 'nero', 'prezzo': 24.99}, {'taglia': 50, 'colore': 'bianco', 'prezzo': 22.99}]}, 'accessori': {'borsa': [{'marca': 'Alvaro Vitali', 'prezzo': 79.99}, {'marca': 'Ingino Massini', 'prezzo': 49.99}], 'cinture': [{'colore': 'nero', 'prezzo': 8.99}, {'colore': 'marrone', 'prezzo': 8.99}]}}\n"
     ]
    }
   ],
   "source": [
    "inventory = json.loads(inventory_str) # anche per scrittura\n",
    "print(type(inventory))\n",
    "print(inventory)"
   ]
  },
  {
   "cell_type": "code",
   "execution_count": 108,
   "metadata": {},
   "outputs": [],
   "source": [
    "with open(\"inventory.json\", \"w\") as json_file:\n",
    "  json.dump(inventory, json_file, indent = 6)"
   ]
  },
  {
   "cell_type": "code",
   "execution_count": 109,
   "metadata": {},
   "outputs": [
    {
     "name": "stdout",
     "output_type": "stream",
     "text": [
      "<class 'dict'>\n",
      "{'abbigliamento': {'magliette': [{'taglia': 'XL', 'colore': 'rosso', 'prezzo': 14.99}, {'taglia': 'L', 'colore': 'blu', 'prezzo': 16.99}, {'taglia': 'L', 'colore': 'bianco', 'prezzo': 12.99}], 'pantaloni': [{'taglia': 46, 'colore': 'nero', 'prezzo': 24.99}, {'taglia': 48, 'colore': 'nero', 'prezzo': 24.99}, {'taglia': 50, 'colore': 'bianco', 'prezzo': 22.99}]}, 'accessori': {'borsa': [{'marca': 'Alvaro Vitali', 'prezzo': 79.99}, {'marca': 'Ingino Massini', 'prezzo': 49.99}], 'cinture': [{'colore': 'nero', 'prezzo': 8.99}, {'colore': 'marrone', 'prezzo': 8.99}]}}\n"
     ]
    }
   ],
   "source": [
    "with open(\"inventory.json\") as json_file:\n",
    "  inventory = json.load(json_file)\n",
    "  print(type(inventory))\n",
    "  print(inventory)"
   ]
  },
  {
   "cell_type": "code",
   "execution_count": 110,
   "metadata": {},
   "outputs": [],
   "source": [
    "with open(\"inventory.json\", \"r+\") as json_file: # per aggiungere righe\n",
    "  inventory = json.load(json_file)\n",
    "  inventory[\"accessori\"][\"borsa\"].append({\"marca\":\"Carmelino Panettiere\", \"prezzo\":149.99})\n",
    "  inventory[\"gift card\"] = [10, 50 ,100]\n",
    "  json_file.seek(0)\n",
    "  json.dump(inventory, json_file, indent = 6)"
   ]
  },
  {
   "attachments": {},
   "cell_type": "markdown",
   "metadata": {},
   "source": [
    "# Standard Library"
   ]
  },
  {
   "attachments": {},
   "cell_type": "markdown",
   "metadata": {},
   "source": [
    "## Modulo Sys"
   ]
  },
  {
   "cell_type": "code",
   "execution_count": 113,
   "metadata": {},
   "outputs": [],
   "source": [
    "import sys"
   ]
  },
  {
   "cell_type": "code",
   "execution_count": 114,
   "metadata": {},
   "outputs": [
    {
     "name": "stdout",
     "output_type": "stream",
     "text": [
      "3.9.6 (tags/v3.9.6:db3ff76, Jun 28 2021, 15:26:21) [MSC v.1929 64 bit (AMD64)]\n",
      "sys.version_info(major=3, minor=9, micro=6, releaselevel='final', serial=0)\n",
      "win32\n",
      "c:\\Users\\andre\\AppData\\Local\\Programs\\Python\\Python39\\python.exe\n",
      "['c:\\\\Users\\\\andre\\\\OneDrive\\\\Documenti\\\\tuttooo\\\\Python', 'c:\\\\Users\\\\andre\\\\AppData\\\\Local\\\\Programs\\\\Python\\\\Python39\\\\python39.zip', 'c:\\\\Users\\\\andre\\\\AppData\\\\Local\\\\Programs\\\\Python\\\\Python39\\\\DLLs', 'c:\\\\Users\\\\andre\\\\AppData\\\\Local\\\\Programs\\\\Python\\\\Python39\\\\lib', 'c:\\\\Users\\\\andre\\\\AppData\\\\Local\\\\Programs\\\\Python\\\\Python39', '', 'C:\\\\Users\\\\andre\\\\AppData\\\\Roaming\\\\Python\\\\Python39\\\\site-packages', 'C:\\\\Users\\\\andre\\\\AppData\\\\Roaming\\\\Python\\\\Python39\\\\site-packages\\\\win32', 'C:\\\\Users\\\\andre\\\\AppData\\\\Roaming\\\\Python\\\\Python39\\\\site-packages\\\\win32\\\\lib', 'C:\\\\Users\\\\andre\\\\AppData\\\\Roaming\\\\Python\\\\Python39\\\\site-packages\\\\Pythonwin', 'c:\\\\Users\\\\andre\\\\AppData\\\\Local\\\\Programs\\\\Python\\\\Python39\\\\lib\\\\site-packages']\n"
     ]
    }
   ],
   "source": [
    "print(sys.version)\n",
    "print(sys.version_info)\n",
    "print(sys.platform)\n",
    "print(sys.executable)\n",
    "print(sys.path)"
   ]
  },
  {
   "attachments": {},
   "cell_type": "markdown",
   "metadata": {},
   "source": [
    "## Modulo os"
   ]
  },
  {
   "attachments": {},
   "cell_type": "markdown",
   "metadata": {},
   "source": [
    "Il modulo os ci permette di utilizzare molte funzioni del nostro sistema operativo."
   ]
  },
  {
   "cell_type": "code",
   "execution_count": 115,
   "metadata": {},
   "outputs": [],
   "source": [
    "import os"
   ]
  },
  {
   "cell_type": "code",
   "execution_count": 116,
   "metadata": {},
   "outputs": [
    {
     "name": "stdout",
     "output_type": "stream",
     "text": [
      "nt\n",
      "andre\n"
     ]
    }
   ],
   "source": [
    "print(os.name) # Stampiamo l'ID dell'OS\n",
    "print(os.getlogin()) # stampiamo il nome utente"
   ]
  },
  {
   "cell_type": "code",
   "execution_count": 119,
   "metadata": {},
   "outputs": [
    {
     "name": "stdout",
     "output_type": "stream",
     "text": [
      "c:\\Users\\andre\\OneDrive\\Documenti\\tuttooo\\Python\n",
      "['Grafici.ipynb', 'Import dataset.ipynb', 'Info Python.docx', 'Intro.ipynb', 'inventory.json', 'Machine Learning.IPYNB', 'ML clustering.ipynb', 'ML Regressione.IPYNB', 'ML riduzione dimensionalità.ipynb', 'rist1.csv', 'Serie temporali.ipynb']\n"
     ]
    }
   ],
   "source": [
    "cwd = os.getcwd() # current working directory\n",
    "print(cwd) \n",
    "\n",
    "print(os.listdir()) # contenuto della directory indicata (se non specificata usa la cwd)"
   ]
  },
  {
   "cell_type": "code",
   "execution_count": null,
   "metadata": {},
   "outputs": [],
   "source": [
    "os.mkdir(\"tmp\") # creare una nuova directory\n",
    "os.rename(\"tmp\",\"temp\") # rinominare un file o una directory\n",
    "os.rmdir('temp') # rimuovere una directory\n",
    "os.remove('tmp.txt') # rimuovere un file"
   ]
  },
  {
   "attachments": {},
   "cell_type": "markdown",
   "metadata": {},
   "source": [
    "## Modulo time"
   ]
  },
  {
   "attachments": {},
   "cell_type": "markdown",
   "metadata": {},
   "source": [
    "Il modulo time, ci fornisce tutta una serie di funzioni legate al tempo. L'utilizzo principale che ci capiterà di farne è quello di cronometrare l'esecuzione del codice utilizzando la sua funzione time(). Ad esempio calcoliamo per 1000 volte la 100esima potenza di 2 e cronometriamo quanto tempo impiega."
   ]
  },
  {
   "cell_type": "code",
   "execution_count": 120,
   "metadata": {},
   "outputs": [
    {
     "name": "stdout",
     "output_type": "stream",
     "text": [
      "La 100° potenza di 2 è 2535301200456458802993406410752\n",
      "Tempo di esecuzione: 0.0080087185 secondi\n"
     ]
    }
   ],
   "source": [
    "from time import time\n",
    "n = 2\n",
    "pow = 100\n",
    "\n",
    "n_pow = n\n",
    "tick = time()\n",
    "\n",
    "for i in range(1000):\n",
    "    n_pow = n\n",
    "    for _ in range(pow):\n",
    "      n_pow*=n\n",
    "\n",
    "duration = time()-tick\n",
    "  \n",
    "print(\"La %d° potenza di %d è %d\" % (pow, n, n_pow))\n",
    "print(\"Tempo di esecuzione: %.10f secondi\" % duration)"
   ]
  },
  {
   "attachments": {},
   "cell_type": "markdown",
   "metadata": {},
   "source": [
    "## Modulo datetime"
   ]
  },
  {
   "attachments": {},
   "cell_type": "markdown",
   "metadata": {},
   "source": [
    "Se il modulo time ci permette di operare con il tempo, il modulo datetime ci permette di operare con le date. Possiamo utilizzare il suo metodo .now() per ottenere la data l'ora attuale."
   ]
  },
  {
   "cell_type": "code",
   "execution_count": 121,
   "metadata": {},
   "outputs": [
    {
     "name": "stdout",
     "output_type": "stream",
     "text": [
      "2023-05-25 12:10:14.202982 <class 'datetime.datetime'>\n"
     ]
    }
   ],
   "source": [
    "import datetime\n",
    "\n",
    "#il metodo now ci permette di ottenere data e ora correnti\n",
    "now = datetime.datetime.now()\n",
    "print(now, type(now))"
   ]
  },
  {
   "cell_type": "code",
   "execution_count": 122,
   "metadata": {},
   "outputs": [
    {
     "name": "stdout",
     "output_type": "stream",
     "text": [
      "2023\n",
      "5\n",
      "25\n",
      "12\n",
      "10\n",
      "14\n"
     ]
    }
   ],
   "source": [
    "print(now.year)\n",
    "print(now.month)\n",
    "print(now.day)\n",
    "print(now.hour)\n",
    "print(now.minute)\n",
    "print(now.second)"
   ]
  },
  {
   "cell_type": "code",
   "execution_count": 123,
   "metadata": {},
   "outputs": [
    {
     "name": "stdout",
     "output_type": "stream",
     "text": [
      "2000-06-11 12:10:14.202982\n"
     ]
    }
   ],
   "source": [
    "past = now.replace(year=2000, month=6, day=11) # modifichiamo la data in 11 Giugno 2000 tenendo l'orario\n",
    "print(past)"
   ]
  },
  {
   "cell_type": "code",
   "execution_count": 125,
   "metadata": {},
   "outputs": [
    {
     "name": "stdout",
     "output_type": "stream",
     "text": [
      "2023-05-26 12:10:14.202982\n",
      "1 day, 0:00:00\n"
     ]
    }
   ],
   "source": [
    "tomorrow = now + datetime.timedelta(days=1) # operazioni sulle date\n",
    "print(tomorrow)\n",
    "print(tomorrow-now)"
   ]
  },
  {
   "attachments": {},
   "cell_type": "markdown",
   "metadata": {},
   "source": [
    "Spesso può essere necessario dover convertire una stringa in una data utilizzando un pattern specifico, possiamo farlo utilizzando la funzione strptime, passando come prima parametro la stringa con la data e come secondo parametro il pattern da utilizzare per eseguire il parsing.\n",
    "\n",
    "Possiamo anche eseguire il proceso inverso, cioè convertire una data in una stringa con un formato definito da noi."
   ]
  },
  {
   "cell_type": "code",
   "execution_count": 127,
   "metadata": {},
   "outputs": [
    {
     "name": "stdout",
     "output_type": "stream",
     "text": [
      "1991-11-06 12:30:00\n",
      "11-06-1991 12.30.00\n"
     ]
    }
   ],
   "source": [
    "date_str = \"11/06/91 12:30:00\"\n",
    "\n",
    "date_date = datetime.datetime.strptime(date_str, \"%m/%d/%y %H:%M:%S\")\n",
    "print(date_date)\n",
    "\n",
    "date_str = datetime.datetime.strftime(date_date, \"%m-%d-%Y %H.%M.%S\")\n",
    "print(date_str)"
   ]
  },
  {
   "attachments": {},
   "cell_type": "markdown",
   "metadata": {},
   "source": [
    "## Modulo Math"
   ]
  },
  {
   "attachments": {},
   "cell_type": "markdown",
   "metadata": {},
   "source": [
    "Python è un linguaggio fantstico per il calcolo scinetifico e il modulo math ci mette a disposizione un'enorme numero di funzioni matematiche."
   ]
  },
  {
   "cell_type": "code",
   "execution_count": 128,
   "metadata": {},
   "outputs": [],
   "source": [
    "import math"
   ]
  },
  {
   "cell_type": "code",
   "execution_count": 129,
   "metadata": {},
   "outputs": [
    {
     "name": "stdout",
     "output_type": "stream",
     "text": [
      "1000.0\n",
      "22026.465794806718\n",
      "5.0\n",
      "2.302585092994046\n",
      "2.0\n",
      "120\n",
      "1.0\n",
      "6\n",
      "5\n",
      "3.141592653589793\n",
      "2.718281828459045\n",
      "6.283185307179586\n",
      "inf\n",
      "nan\n"
     ]
    }
   ],
   "source": [
    "print(math.pow(10, 3)) # calcola 10 elevato 3\n",
    "print(math.exp(10)) # calcola 10 elevate e\n",
    "print(math.sqrt(25)) # calcola la radice quadrata di 25\n",
    "print(math.log(10)) # calcola il logaritmo in base e\n",
    "print(math.log(100, 10)) # calcola il logaritmo in base 10\n",
    "print(math.factorial(5)) # calcola il fattoriale\n",
    "print(math.fabs(-1)) # valore assoluto\n",
    "print(math.ceil(5.2)) # arrotonda per eccesso\n",
    "print(math.floor(5.2)) # arrotonda per difetto\n",
    "print(math.pi) # pi greco\n",
    "print(math.e) # numero di eulero\n",
    "print(math.tau) # rapporto tra circonferenza e raggio\n",
    "print(math.inf) # infinito\n",
    "print(math.nan) # not a number"
   ]
  },
  {
   "attachments": {},
   "cell_type": "markdown",
   "metadata": {},
   "source": [
    "# Numpy"
   ]
  },
  {
   "attachments": {},
   "cell_type": "markdown",
   "metadata": {},
   "source": [
    "Numpy è una libreria Python sviluppata appositamente per il calcolo scientifico, permette di operare su vettori e matrici anche di grandi dimensioni, utilizzando funzioni scritte in linguaggio C e quindi molto veloci."
   ]
  },
  {
   "cell_type": "code",
   "execution_count": 132,
   "metadata": {},
   "outputs": [],
   "source": [
    "import numpy as np"
   ]
  },
  {
   "attachments": {},
   "cell_type": "markdown",
   "metadata": {},
   "source": [
    "## Vettori"
   ]
  },
  {
   "attachments": {},
   "cell_type": "markdown",
   "metadata": {},
   "source": [
    "Il calcolo tra vettori e matrici ricopre un ruolo fondamentale non solo nel Machine Learning, ma in ogni branca dell'Intelligenza Artificiale e dell'Informatica in generale. Un vettore è un elemento che contiene un insieme ordinato di numeri disposti su una sola riga (vettore riga) o su una sola colonna."
   ]
  },
  {
   "cell_type": "code",
   "execution_count": 133,
   "metadata": {},
   "outputs": [
    {
     "name": "stdout",
     "output_type": "stream",
     "text": [
      "<class 'list'>\n",
      "<class 'numpy.ndarray'>\n",
      "[10 15 20 25 30]\n"
     ]
    }
   ],
   "source": [
    "v = [10, 15, 20, 25, 30] # lista python\n",
    "print(type(v))\n",
    "v = np.array(v) # vettore numpy\n",
    "print(type(v))\n",
    "print(v)"
   ]
  },
  {
   "attachments": {},
   "cell_type": "markdown",
   "metadata": {},
   "source": [
    "E' possibile accedere ad un elemento di un vettore nello stesso modo in cui si accede all'elemento di una lista, cioè utilizzando il suo indice."
   ]
  },
  {
   "cell_type": "code",
   "execution_count": 134,
   "metadata": {},
   "outputs": [
    {
     "name": "stdout",
     "output_type": "stream",
     "text": [
      "Primo elemento del vettore: 10 \n",
      "Secondo elemento del vettore: 15 \n",
      "Ultimo elemento del vettore: 30 \n",
      "Penultimo elemento del vettore: 25 \n",
      "Primi 3 elementi del vettore: [10 15 20]\n",
      "Ultimi 2 elementi del vettore: [25 30]\n",
      "Dal secondo al quarto elemento del vettore: [15 20 25]\n"
     ]
    }
   ],
   "source": [
    "print(\"Primo elemento del vettore: %d \" % (v[0]))\n",
    "print(\"Secondo elemento del vettore: %d \" % (v[1]))\n",
    "\n",
    "print(\"Ultimo elemento del vettore: %d \" % (v[-1]))\n",
    "print(\"Penultimo elemento del vettore: %d \" % (v[-2]))\n",
    "\n",
    "print(\"Primi 3 elementi del vettore: %s\" % (v[:3])) #stampa gli elementi alla posizione 0,1 e 2\n",
    "print(\"Ultimi 2 elementi del vettore: %s\" % (v[-2:])) #stampa gli elementi alla posizione 3 e 4\n",
    "print(\"Dal secondo al quarto elemento del vettore: %s\" % (v[1:4]))"
   ]
  },
  {
   "cell_type": "code",
   "execution_count": 135,
   "metadata": {},
   "outputs": [
    {
     "name": "stdout",
     "output_type": "stream",
     "text": [
      "[ 4  5  3 10  7]\n"
     ]
    }
   ],
   "source": [
    "v = np.array([1, 2 , 3 ,4, 5]) # definisco un nuovo vettore\n",
    "v[0] = 10 # sostituisco il valore 1 con 10 come primo elemento del vettore\n",
    "v[1] = v[2]+v[3] # assegno la somma degli elementi alla posizione 3 e 4 del vettore all'emento in posizione 2 \n",
    "\n",
    "tmp = np.array([])\n",
    "tmp = v[:2].copy() # utilizzo copy per eseguire un'assegnazione per valore e non per riferimento\n",
    "v[:2] = v[-2:]\n",
    "v[-2:] = tmp\n",
    "\n",
    "print(v)"
   ]
  },
  {
   "cell_type": "code",
   "execution_count": 137,
   "metadata": {},
   "outputs": [
    {
     "name": "stdout",
     "output_type": "stream",
     "text": [
      "a + b = [15 30 45 60 75]\n",
      "a - b = [ 5 10 15 20 25]\n",
      "a * b = [  50  200  450  800 1250]\n"
     ]
    },
    {
     "data": {
      "text/plain": [
       "2750"
      ]
     },
     "execution_count": 137,
     "metadata": {},
     "output_type": "execute_result"
    }
   ],
   "source": [
    "a = np.array([10, 20, 30, 40, 50])\n",
    "b = np.array([5, 10, 15, 20, 25])\n",
    "\n",
    "print(\"a + b = %s\" % (a+b)) # somma tra i vettori a e b\n",
    "print(\"a - b = %s\" % (a-b)) # differenza tra i vettori a e b\n",
    "print(\"a * b = %s\" % (a*b)) # prodotto elemento per elemento dei vettori a e b\n",
    "\n",
    "np.dot(a,b) # prodotto scalare dei vettori a e b"
   ]
  },
  {
   "cell_type": "code",
   "execution_count": 140,
   "metadata": {},
   "outputs": [
    {
     "name": "stdout",
     "output_type": "stream",
     "text": [
      "[5 8 0 9 2]\n",
      "[5 8 0 2]\n",
      "[ 5  8 13  0  2]\n",
      "[ 0  2  5 13  8]\n",
      "Numero di elementi del vettore 5\n",
      "Elementi ordinati del vettore: [ 0  2  5  8 13]\n",
      "Somma di tutti gli elemento di v: 28\n",
      "Il valore massimo del vettore è 13 e si trova alla posizione 3\n",
      "Il valore minimo del vettore è 0 e si trova alla posizione 0\n",
      "Valore medio del vettore: 5.6\n",
      "Mediana del vettore: 5\n",
      "Deviazione standard degli elementi del vettore: 4.59\n",
      "Logaritmo naturale di tutti gli elementi di v: [      -inf 0.69314718 1.60943791 2.56494936 2.07944154]\n",
      "Esponente di tutti gli elementi di v: [1.00000000e+00 7.38905610e+00 1.48413159e+02 4.42413392e+05\n",
      " 2.98095799e+03]\n",
      "Funzione seno di tutti gli elementi di v: [ 0.          0.90929743 -0.95892427  0.42016704  0.98935825]\n"
     ]
    },
    {
     "name": "stderr",
     "output_type": "stream",
     "text": [
      "C:\\Users\\andre\\AppData\\Local\\Temp\\ipykernel_53032\\3982634807.py:20: RuntimeWarning: divide by zero encountered in log\n",
      "  print(\"Logaritmo naturale di tutti gli elementi di v: %s\" % (np.log(v)))\n"
     ]
    }
   ],
   "source": [
    "v = np.array([5, 8 , 0, 9, 2])\n",
    "print(v)\n",
    "v = np.delete(v,3) # rimuove l'elemento alla posizone 3\n",
    "print(v)\n",
    "v = np.insert(v, 2, 13) # inserisci il valore 13 alla posizione 2\n",
    "print(v)\n",
    "np.random.shuffle(v) #mescola gli elementi nel vettore\n",
    "print(v)\n",
    "\n",
    "print(\"Numero di elementi del vettore %d\" % (len(v)))\n",
    "print(\"Elementi ordinati del vettore: %s\" % (np.sort(v)))\n",
    "print(\"Somma di tutti gli elemento di v: %d\" % (np.sum(v)))\n",
    "\n",
    "print(\"Il valore massimo del vettore è %d e si trova alla posizione %d\" % (np.max(v), np.argmax(v)))\n",
    "print(\"Il valore minimo del vettore è %d e si trova alla posizione %d\" % (np.min(v), np.argmin(v)))\n",
    "print(\"Valore medio del vettore: %.1f\" % (np.mean(v))) # %.1f ci permette di stampare il valore con la virgola limitandolo a una sola cifra decimale\n",
    "print(\"Mediana del vettore: %d\" % (np.median(v)))\n",
    "print(\"Deviazione standard degli elementi del vettore: %.2f\" % (v.std()))\n",
    "\n",
    "print(\"Logaritmo naturale di tutti gli elementi di v: %s\" % (np.log(v)))\n",
    "print(\"Esponente di tutti gli elementi di v: %s\" % (np.exp(v)))\n",
    "print(\"Funzione seno di tutti gli elementi di v: %s\" % (np.sin(v)))"
   ]
  },
  {
   "attachments": {},
   "cell_type": "markdown",
   "metadata": {},
   "source": [
    "# Cross Validation"
   ]
  },
  {
   "attachments": {},
   "cell_type": "markdown",
   "metadata": {},
   "source": [
    "La k-fold cross-validation è un metodo di validazione del modello che non influisce sulla dimensione del train set.\n",
    "In questo notebook creeremo un modello di classificazione per l'iris dataset e utilizzeremo una 10-folds cross-validation per la validazione."
   ]
  },
  {
   "cell_type": "code",
   "execution_count": null,
   "metadata": {},
   "outputs": [],
   "source": [
    "import matplotlib.pyplot as plt\n",
    "import pandas as pd\n",
    "import numpy as np\n",
    "from sklearn.linear_model import LogisticRegression\n",
    "from sklearn.model_selection import train_test_sp\n",
    "\n",
    "X_train, X_test, Y_train, Y_test = train_test_split(X, Y, test_size=0.3, random_state=1)"
   ]
  },
  {
   "cell_type": "code",
   "execution_count": null,
   "metadata": {},
   "outputs": [],
   "source": [
    "from sklearn.model_selection import KFold\n",
    "\n",
    "lr = LogisticRegression()\n",
    "\n",
    "kfold = KFold(n_splits=10, random_state=1)\n",
    "scores = []\n",
    "              \n",
    "for k, (train, test) in enumerate(kfold.split(X_train)):\n",
    "    lr.fit(X_train[train], Y_train[train])\n",
    "    score = lr.score(X_train[test],Y_train[test])\n",
    "    scores.append(score)\n",
    "    print(\"Fold %d: Accuracy=%.2f\" %(k, score))"
   ]
  },
  {
   "cell_type": "code",
   "execution_count": null,
   "metadata": {},
   "outputs": [],
   "source": [
    "accuracy = np.array(scores).mean()\n",
    "print(\"\\nValidation Accuracy = %.2f\" % accuracy)"
   ]
  },
  {
   "cell_type": "code",
   "execution_count": null,
   "metadata": {},
   "outputs": [],
   "source": [
    "# Oppure stratified cross validation, che crea folds bilanciando le classi.\n",
    "from sklearn.model_selection import StratifiedKFold\n",
    "\n",
    "lr = LogisticRegression()\n",
    "\n",
    "kfold = StratifiedKFold(n_splits=10, random_state=1)\n",
    "scores = []\n",
    "              \n",
    "for k, (train, test) in enumerate(kfold.split(X_train,Y_train)):\n",
    "    lr.fit(X_train[train], Y_train[train])\n",
    "    score = lr.score(X_train[test],Y_train[test])\n",
    "    scores.append(score)\n",
    "    print(\"Fold %d: Accuracy=%.2f\" %(k, score))\n",
    "    \n",
    "print(\"\\nValidation Accuracy = %.2f\" % (np.array(scores).mean()))"
   ]
  },
  {
   "cell_type": "code",
   "execution_count": null,
   "metadata": {},
   "outputs": [],
   "source": [
    "# OPPURE utilizzare la cross_validation come funzione di scoring passandogli il modello (classi bilanciate)\n",
    "from sklearn.model_selection import cross_val_score\n",
    "\n",
    "lr = LogisticRegression()\n",
    "scores = cross_val_score(lr, X_train, Y_train, cv=10)\n",
    "\n",
    "for fold,score in enumerate(scores):\n",
    "    print(\"Fold %d score=%.4f\" % (fold+1,score))\n",
    "    \n",
    "print(\"\\nValidation Accuracy = %.2f\" % scores.mean())"
   ]
  },
  {
   "cell_type": "code",
   "execution_count": null,
   "metadata": {},
   "outputs": [],
   "source": [
    "from sklearn.model_selection import cross_val_score\n",
    "\n",
    "lr = LogisticRegression()\n",
    "cross_val_score(lr, X_train, Y_train, cv=10, n_jobs=7, verbose=1)"
   ]
  }
 ],
 "metadata": {
  "kernelspec": {
   "display_name": "Python 3",
   "language": "python",
   "name": "python3"
  },
  "language_info": {
   "codemirror_mode": {
    "name": "ipython",
    "version": 3
   },
   "file_extension": ".py",
   "mimetype": "text/x-python",
   "name": "python",
   "nbconvert_exporter": "python",
   "pygments_lexer": "ipython3",
   "version": "3.9.6"
  },
  "orig_nbformat": 4
 },
 "nbformat": 4,
 "nbformat_minor": 2
}
